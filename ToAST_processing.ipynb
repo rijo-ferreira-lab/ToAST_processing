{
 "cells": [
  {
   "cell_type": "markdown",
   "id": "0a0386f0",
   "metadata": {},
   "source": [
    "# Hi! I am a notebook to process data output by the Frichneckht Lab's ToAST plugin on ImageJ/FIJI into a readable and pandas-interpretable format. "
   ]
  },
  {
   "cell_type": "markdown",
   "id": "ba4d9e8c",
   "metadata": {},
   "source": [
    "Please only use me if you have taken high frame rate videos (>2images/s) of sporozoites moving. Otherwise, Imaris on the 3rd floor of BIF is a free and excellent tool to use to analyze motility datasets"
   ]
  },
  {
   "cell_type": "code",
   "execution_count": 1,
   "id": "bd7fd166",
   "metadata": {},
   "outputs": [],
   "source": [
    "import pandas as pd\n",
    "import seaborn as sns\n",
    "import numpy as np\n",
    "import matplotlib.pyplot as plt\n",
    "import re"
   ]
  },
  {
   "cell_type": "markdown",
   "id": "9bb59961",
   "metadata": {},
   "source": [
    "Set path to your ToAST data (output should be a .txt file):"
   ]
  },
  {
   "cell_type": "code",
   "execution_count": 5,
   "id": "2b6407c1",
   "metadata": {},
   "outputs": [],
   "source": [
    "path3 = r'/set/path/here'"
   ]
  },
  {
   "cell_type": "code",
   "execution_count": 6,
   "id": "2a4e1881",
   "metadata": {},
   "outputs": [],
   "source": [
    "readble = pd.read_csv(path3,on_bad_lines='skip')"
   ]
  },
  {
   "cell_type": "code",
   "execution_count": 8,
   "id": "7fe50b9f",
   "metadata": {},
   "outputs": [],
   "source": [
    "df = pd.DataFrame()\n",
    "obj_num = []\n",
    "pic_num = []\n",
    "x = []\n",
    "y = []\n",
    "speed = []\n",
    "rotational_speed = []\n",
    "moving_dir = []\n",
    "\n",
    "for i in range(0,len(readble)):\n",
    "    a = readble.iloc[i,0]\n",
    "    b = str(a)\n",
    "    \n",
    "    obj_num_iter = re.findall('\\d*\\spicnum', b)\n",
    "    result = re.sub(r'\\s[a-z]+', '', obj_num_iter[0])\n",
    "    obj_num.append(int(result))\n",
    "    \n",
    "    pic_num_iter = re.findall('picnum\\s\\d+', b)\n",
    "    pic_result = re.sub(r'[a-z]+\\s', '', pic_num_iter[0])\n",
    "    pic_num.append(int(pic_result))\n",
    "    \n",
    "    x_iter = re.findall('x&y\\s\\d+\\.?\\d*', b)\n",
    "    x_result = re.sub(r'x&y\\s', '', x_iter[0])\n",
    "    x.append(float(x_result))\n",
    "    \n",
    "    y_iter = re.findall('x&y\\s\\d+\\.?\\d*\\s\\d+\\.?\\d*', b)\n",
    "    y_result = re.sub(r'x&y\\s\\d+\\.?\\d*\\s', '', y_iter[0])\n",
    "    y.append(float(y_result))\n",
    "    \n",
    "    speed_iter = re.findall('[A-Za-z]peed\\(microm\\/sec\\)\\s\\d+\\.?\\d*E?-?\\d*', b)\n",
    "    speed_result = re.findall('\\d+\\.?\\d*E?-?\\d*', speed_iter[0])\n",
    "    speed.append(float(speed_result[0]))\n",
    "    \n",
    "    rot_iter = re.findall('rotatonal\\_speed\\s-?\\d+\\.?\\d*', b) #yes the typo is intentional\n",
    "    rot_result = re.sub(r'rotatonal\\_speed\\s', '', rot_iter[0])\n",
    "    rotational_speed.append(float(rot_result))\n",
    "    \n",
    "    mov_iter = re.findall('moving\\_dir\\s-?\\d+\\.?\\d*', b)\n",
    "    mov_result = re.sub(r'moving\\_dir\\s', '', mov_iter[0])\n",
    "    moving_dir.append(float(mov_result))\n",
    "\n",
    "df['Object Number'] = obj_num\n",
    "df['Pic Number'] = pic_num\n",
    "df['X'] = x\n",
    "df['Y'] = y\n",
    "df['speed(um/s)'] = speed\n",
    "df['rotational speed'] = rotational_speed\n",
    "df['moving direction'] = moving_dir"
   ]
  },
  {
   "cell_type": "code",
   "execution_count": null,
   "id": "3d57f0cf",
   "metadata": {},
   "outputs": [],
   "source": []
  }
 ],
 "metadata": {
  "kernelspec": {
   "display_name": "Python 3 (ipykernel)",
   "language": "python",
   "name": "python3"
  },
  "language_info": {
   "codemirror_mode": {
    "name": "ipython",
    "version": 3
   },
   "file_extension": ".py",
   "mimetype": "text/x-python",
   "name": "python",
   "nbconvert_exporter": "python",
   "pygments_lexer": "ipython3",
   "version": "3.10.9"
  }
 },
 "nbformat": 4,
 "nbformat_minor": 5
}
